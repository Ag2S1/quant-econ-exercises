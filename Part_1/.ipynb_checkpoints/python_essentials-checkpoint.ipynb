{
 "cells": [
  {
   "cell_type": "code",
   "execution_count": 10,
   "metadata": {
    "collapsed": false
   },
   "outputs": [
    {
     "name": "stdout",
     "output_type": "stream",
     "text": [
      "32\n",
      "50\n",
      "2\n"
     ]
    }
   ],
   "source": [
    "# Exercise 1\n",
    "\n",
    "x_vals = [1, 2, 3]\n",
    "y_vals = [4, 5, 6]\n",
    "print sum(x * y for x, y in zip(x_vals, y_vals))\n",
    "\n",
    "print sum([x % 2 == 0 for x in range(0, 100)])\n",
    "\n",
    "pairs = ((2, 5), (4, 2), (9, 8), (12, 10))\n",
    "print sum([x%2==0 and y%2==0 for x, y in pairs])\n"
   ]
  },
  {
   "cell_type": "code",
   "execution_count": 15,
   "metadata": {
    "collapsed": false
   },
   "outputs": [
    {
     "name": "stdout",
     "output_type": "stream",
     "text": [
      "5\n"
     ]
    }
   ],
   "source": [
    "# Exercise 2\n",
    "\n",
    "def p(x, coeff):\n",
    "    return sum(val*x**index for index, val in enumerate(coeff))\n",
    "print p(1, [2, 3])"
   ]
  },
  {
   "cell_type": "code",
   "execution_count": 3,
   "metadata": {
    "collapsed": false
   },
   "outputs": [
    {
     "name": "stdout",
     "output_type": "stream",
     "text": [
      "4\n"
     ]
    }
   ],
   "source": [
    "# Exercise 3\n",
    "def cap_count(s):\n",
    "    return sum([c==c.upper() for c in s])\n",
    "\n",
    "print cap_count('AbcDEfG')"
   ]
  },
  {
   "cell_type": "code",
   "execution_count": 6,
   "metadata": {
    "collapsed": false
   },
   "outputs": [
    {
     "name": "stdout",
     "output_type": "stream",
     "text": [
      "True\n"
     ]
    }
   ],
   "source": [
    "# Exercise 4\n",
    "def contains_all_char(seq_a, seq_b):\n",
    "    for c in seq_a:\n",
    "        if not c in seq_b:\n",
    "            return False\n",
    "    return True\n",
    "\n",
    "print contains_all_char([1,2,3], [4,5,2,3,1])"
   ]
  },
  {
   "cell_type": "code",
   "execution_count": null,
   "metadata": {
    "collapsed": true
   },
   "outputs": [],
   "source": [
    "# Exercise 5\n",
    "from __future__ import division\n",
    "from math import floor\n",
    "def linapprox(f, a, b, n, x):\n",
    "    length = b - a\n",
    "    grid_width = length / (n - 1)\n",
    "    left = a + floor((x - a) / grid_width) * grid_width\n",
    "    rigth = left + grid_width\n",
    "    return f(left) + (f(rigth) - f(left)) * (x - left) / grid_width"
   ]
  }
 ],
 "metadata": {
  "kernelspec": {
   "display_name": "Python 2",
   "language": "python",
   "name": "python2"
  },
  "language_info": {
   "codemirror_mode": {
    "name": "ipython",
    "version": 2
   },
   "file_extension": ".py",
   "mimetype": "text/x-python",
   "name": "python",
   "nbconvert_exporter": "python",
   "pygments_lexer": "ipython2",
   "version": "2.7.10"
  }
 },
 "nbformat": 4,
 "nbformat_minor": 0
}
